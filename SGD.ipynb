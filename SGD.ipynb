{
 "cells": [
  {
   "cell_type": "code",
   "execution_count": 0,
   "metadata": {
    "colab": {},
    "colab_type": "code",
    "id": "KANCNFAxcb_V"
   },
   "outputs": [],
   "source": [
    "%matplotlib inline\n",
    "import torch\n",
    "import numpy as np\n",
    "import torch.nn as nn\n",
    "import torch.nn.functional as F\n",
    "import matplotlib.pyplot as plt\n",
    "from torchvision import transforms, datasets"
   ]
  },
  {
   "cell_type": "code",
   "execution_count": 2,
   "metadata": {
    "colab": {
     "base_uri": "https://localhost:8080/",
     "height": 380,
     "referenced_widgets": [
      "bade16d9069d4fabadfdee0f59b029c2",
      "34599b2c35654626b690eda263ea11ab",
      "574ae471a9304d488571ad4204c017d7",
      "da196388da004f69b510b60948d1663c",
      "360fe51cb69d48cfad85ff7a6cc95dee",
      "92e4ae5571f74672a64206c7aaa69c76",
      "c1203e1802f3455d9ca0c7e51fdfb016",
      "c2a7e22dae484ae4b1fba6f7a0a64315",
      "8bf369eb20fa4282b154bb1480efeaa0",
      "0fabcb63b1d9412babafa1e830be596d",
      "a94fd3fe82554218b899ff35964014c6",
      "cfe4a6afcb7f4f06af1d2599c7d801d8",
      "41088a6151a1441381ec0f39fe961a48",
      "34802026d4624c009641e77b38b3f25e",
      "a02b36aa49fa455b98085489f8140be4",
      "8a6b30725f464b37a2ab4ac20b2361de",
      "9af976fb2c11484e95ca13e3885897f3",
      "31e3d0dc346849d28bbce61705bf928a",
      "c94fee611c67430d906a5429a6d3d020",
      "faeb4a92592644558aa2c611733222ef",
      "902758c515444dcfbb9b567b820e5f03",
      "0b407a5d462347c7808b2b939df0a379",
      "0661badf2ce64762aedfb737ba230ccd",
      "6891ffcea3d54444bb9c365ed2bc99b3",
      "f2bbff8c9e2e4a1eb258e20d46099805",
      "bdda77e77dc540a3b737a7627632a6f6",
      "e70bb3bb6eef43d0bab0d43b00052bb1",
      "679cd34bc9734541933d51e01d09c2e2",
      "56e5475278c94396a56322314e4026f8",
      "e71dc12cb28148778c37cb9fcbaba947",
      "c6da027f87c049538a018808af316be3",
      "f7dede5a18594cb0b9e7e4d66ed37c0d"
     ]
    },
    "colab_type": "code",
    "id": "NQOMSvKRc20j",
    "outputId": "f01c019c-6e70-4a6e-f8d8-f51e0a07ed84"
   },
   "outputs": [
    {
     "name": "stdout",
     "output_type": "stream",
     "text": [
      "Downloading http://yann.lecun.com/exdb/mnist/train-images-idx3-ubyte.gz to ./MNIST/MNIST/raw/train-images-idx3-ubyte.gz\n"
     ]
    },
    {
     "data": {
      "application/vnd.jupyter.widget-view+json": {
       "model_id": "bade16d9069d4fabadfdee0f59b029c2",
       "version_major": 2,
       "version_minor": 0
      },
      "text/plain": [
       "HBox(children=(IntProgress(value=1, bar_style='info', max=1), HTML(value='')))"
      ]
     },
     "metadata": {
      "tags": []
     },
     "output_type": "display_data"
    },
    {
     "name": "stdout",
     "output_type": "stream",
     "text": [
      "\n",
      "Extracting ./MNIST/MNIST/raw/train-images-idx3-ubyte.gz to ./MNIST/MNIST/raw\n",
      "Downloading http://yann.lecun.com/exdb/mnist/train-labels-idx1-ubyte.gz to ./MNIST/MNIST/raw/train-labels-idx1-ubyte.gz\n"
     ]
    },
    {
     "data": {
      "application/vnd.jupyter.widget-view+json": {
       "model_id": "8bf369eb20fa4282b154bb1480efeaa0",
       "version_major": 2,
       "version_minor": 0
      },
      "text/plain": [
       "HBox(children=(IntProgress(value=1, bar_style='info', max=1), HTML(value='')))"
      ]
     },
     "metadata": {
      "tags": []
     },
     "output_type": "display_data"
    },
    {
     "name": "stdout",
     "output_type": "stream",
     "text": [
      "\n",
      "Extracting ./MNIST/MNIST/raw/train-labels-idx1-ubyte.gz to ./MNIST/MNIST/raw\n",
      "Downloading http://yann.lecun.com/exdb/mnist/t10k-images-idx3-ubyte.gz to ./MNIST/MNIST/raw/t10k-images-idx3-ubyte.gz\n"
     ]
    },
    {
     "data": {
      "application/vnd.jupyter.widget-view+json": {
       "model_id": "9af976fb2c11484e95ca13e3885897f3",
       "version_major": 2,
       "version_minor": 0
      },
      "text/plain": [
       "HBox(children=(IntProgress(value=1, bar_style='info', max=1), HTML(value='')))"
      ]
     },
     "metadata": {
      "tags": []
     },
     "output_type": "display_data"
    },
    {
     "name": "stdout",
     "output_type": "stream",
     "text": [
      "\n",
      "Extracting ./MNIST/MNIST/raw/t10k-images-idx3-ubyte.gz to ./MNIST/MNIST/raw\n",
      "Downloading http://yann.lecun.com/exdb/mnist/t10k-labels-idx1-ubyte.gz to ./MNIST/MNIST/raw/t10k-labels-idx1-ubyte.gz\n"
     ]
    },
    {
     "data": {
      "application/vnd.jupyter.widget-view+json": {
       "model_id": "f2bbff8c9e2e4a1eb258e20d46099805",
       "version_major": 2,
       "version_minor": 0
      },
      "text/plain": [
       "HBox(children=(IntProgress(value=1, bar_style='info', max=1), HTML(value='')))"
      ]
     },
     "metadata": {
      "tags": []
     },
     "output_type": "display_data"
    },
    {
     "name": "stdout",
     "output_type": "stream",
     "text": [
      "\n",
      "Extracting ./MNIST/MNIST/raw/t10k-labels-idx1-ubyte.gz to ./MNIST/MNIST/raw\n",
      "Processing...\n",
      "Done!\n"
     ]
    }
   ],
   "source": [
    "apply_transform = transforms.Compose([transforms.ToTensor()])\n",
    "BatchSize = [128,256,512]\n",
    "trainLoader=[]\n",
    "testLoader=[]\n",
    "trainset = datasets.MNIST(root='./MNIST', train=True, download=True,                    transform=transforms.Compose([\n",
    "                       transforms.Resize((32, 32)),\n",
    "                       transforms.ToTensor()]))\n",
    "testset = datasets.MNIST(root='./MNIST', train=False, download=True,                    transform=transforms.Compose([\n",
    "                       transforms.Resize((32, 32)),\n",
    "                       transforms.ToTensor()]))\n",
    "for i in range(len(BatchSize)):\n",
    "      trainloader = torch.utils.data.DataLoader(trainset, batch_size=BatchSize[i],\n",
    "                                          shuffle=True, num_workers=4) # Creating dataloader\n",
    "      trainLoader.append(trainloader)\n",
    "      testloader = torch.utils.data.DataLoader(testset, batch_size=BatchSize[i],\n",
    "                                         shuffle=False, num_workers=4) # Creating dataloader\n",
    "      testLoader.append(testloader)"
   ]
  },
  {
   "cell_type": "code",
   "execution_count": 4,
   "metadata": {
    "colab": {
     "base_uri": "https://localhost:8080/",
     "height": 118
    },
    "colab_type": "code",
    "id": "blpaS4Odc25W",
    "outputId": "d3d6afae-f458-4e29-db55-eed708fc9de9"
   },
   "outputs": [
    {
     "name": "stdout",
     "output_type": "stream",
     "text": [
      "No. of samples in train set: 60000\n",
      "No. of samples in test set: 10000\n",
      "No. of samples in train set: 60000\n",
      "No. of samples in test set: 10000\n",
      "No. of samples in train set: 60000\n",
      "No. of samples in test set: 10000\n"
     ]
    }
   ],
   "source": [
    "# Size of train and test datasets\n",
    "for i in range(len(BatchSize)):\n",
    "      print('No. of samples in train set: '+str(len(trainLoader[i].dataset)))\n",
    "      print('No. of samples in test set: '+str(len(testLoader[i].dataset)))"
   ]
  },
  {
   "cell_type": "code",
   "execution_count": 5,
   "metadata": {
    "colab": {
     "base_uri": "https://localhost:8080/",
     "height": 168
    },
    "colab_type": "code",
    "id": "nX2rBKO7c28v",
    "outputId": "eb92e1e5-a3f5-4aa5-e851-aaf478b4bde0"
   },
   "outputs": [
    {
     "name": "stdout",
     "output_type": "stream",
     "text": [
      "LeNet(\n",
      "  (conv1): Conv2d(1, 6, kernel_size=(5, 5), stride=(1, 1))\n",
      "  (pool1): MaxPool2d(kernel_size=2, stride=2, padding=0, dilation=1, ceil_mode=False)\n",
      "  (conv2): Conv2d(6, 16, kernel_size=(5, 5), stride=(1, 1))\n",
      "  (pool2): MaxPool2d(kernel_size=2, stride=2, padding=0, dilation=1, ceil_mode=False)\n",
      "  (fc1): Linear(in_features=400, out_features=120, bias=True)\n",
      "  (fc2): Linear(in_features=120, out_features=84, bias=True)\n",
      "  (fc3): Linear(in_features=84, out_features=10, bias=True)\n",
      ")\n"
     ]
    }
   ],
   "source": [
    "\n",
    "class LeNet(nn.Module):\n",
    "    def __init__(self):\n",
    "        super(LeNet, self).__init__()\n",
    "        self.conv1 = nn.Conv2d(1, 6, kernel_size=5)\n",
    "        self.pool1 = nn.MaxPool2d(kernel_size=2,stride=2)\n",
    "        self.conv2 = nn.Conv2d(6, 16, kernel_size=5)\n",
    "        self.pool2 = nn.MaxPool2d(kernel_size=2,stride=2)        \n",
    "        self.fc1 = nn.Linear(400, 120)\n",
    "        self.fc2 = nn.Linear(120, 84)\n",
    "        self.fc3 = nn.Linear(84, 10)\n",
    "\n",
    "    def forward(self, x):\n",
    "        x = F.relu(self.conv1(x))\n",
    "        x = self.pool1(x)\n",
    "        x = F.relu(self.conv2(x))\n",
    "        x = self.pool2(x)\n",
    "        x = x.view(-1, 400)\n",
    "        x = F.relu(self.fc1(x)) \n",
    "        x = F.relu(self.fc2(x))\n",
    "        x = self.fc3(x)\n",
    "        return F.log_softmax(x,dim=1)\n",
    "\n",
    "net=LeNet()\n",
    "print(net)"
   ]
  },
  {
   "cell_type": "code",
   "execution_count": 0,
   "metadata": {
    "colab": {},
    "colab_type": "code",
    "id": "PD0Cc6OtZQv7"
   },
   "outputs": [],
   "source": [
    "def PLOTS(num_epochs,train_acc,train_loss):\n",
    "\n",
    "  fig = plt.figure(figsize=[15,5]) \n",
    "  plt.subplot(121)\n",
    "  plt.plot(range(num_epochs),train_loss,'r-',label='Loss') \n",
    "  plt.legend(loc='upper right')\n",
    "  plt.xlabel('Epochs')\n",
    "  plt.ylabel('Training')\n",
    "  plt.subplot(122)\n",
    "  plt.plot(range(num_epochs),train_acc,'g-',label='Accuracy') \n",
    "  plt.legend(loc='upper right')\n",
    "  plt.xlabel('Epochs')\n",
    "  plt.ylabel('Training')"
   ]
  },
  {
   "cell_type": "code",
   "execution_count": 0,
   "metadata": {
    "colab": {},
    "colab_type": "code",
    "id": "SvsbvRkYpiHm"
   },
   "outputs": [],
   "source": [
    "from torch import optim\n",
    "learning_rate=0.1\n",
    "num_epochs=5\n",
    "train_A=[[],[],[]]\n",
    "train_L=[[],[],[]]\n",
    "criterion = nn.CrossEntropyLoss()\n",
    "optimizer = optim.SGD(net.parameters(), lr=learning_rate)\n",
    "#optimizer = optim.Adam(net.parametres(), lr=learning_rate)"
   ]
  },
  {
   "cell_type": "code",
   "execution_count": 0,
   "metadata": {
    "cellView": "form",
    "colab": {},
    "colab_type": "code",
    "id": "-nN6fkvsyidW"
   },
   "outputs": [],
   "source": [
    "#@title DIFFERENT BATCHSIZES SAME LEARNING RATE"
   ]
  },
  {
   "cell_type": "code",
   "execution_count": 22,
   "metadata": {
    "colab": {
     "base_uri": "https://localhost:8080/",
     "height": 101
    },
    "colab_type": "code",
    "id": "mU4S41B4c2_S",
    "outputId": "548fe180-7715-426f-d16f-46d5f2ef5a87"
   },
   "outputs": [
    {
     "name": "stdout",
     "output_type": "stream",
     "text": [
      "Epoch 1/5 : Training loss: 0.0343 | Training Accuracy: 98.8967\n",
      "Epoch 2/5 : Training loss: 0.0284 | Training Accuracy: 99.0950\n",
      "Epoch 3/5 : Training loss: 0.0254 | Training Accuracy: 99.1817\n",
      "Epoch 4/5 : Training loss: 0.0225 | Training Accuracy: 99.2650\n",
      "Epoch 5/5 : Training loss: 0.0191 | Training Accuracy: 99.3733\n"
     ]
    }
   ],
   "source": [
    "# BATCHSIZE = 128\n",
    "train_loss = []\n",
    "train_acc = []\n",
    "for epoch in range(num_epochs):\n",
    "                running_loss = 0.0 \n",
    "                running_corr = 0\n",
    "          \n",
    "                for i,data in enumerate(trainLoader[0]):\n",
    "                    inputs,labels = data\n",
    "                  # Initializing model gradients to zero\n",
    "                    net.zero_grad()\n",
    "                    optimizer.zero_grad() \n",
    "                    # Data feed-forward through the network\n",
    "                    outputs = net(inputs)\n",
    "                    # Predicted class is the one with maximum probability\n",
    "                    preds = torch.argmax(outputs,dim=1)\n",
    "                    # Finding the loss\n",
    "                    loss = criterion(outputs, labels)\n",
    "                    loss.backward()\n",
    "                    optimizer.step()\n",
    "\n",
    "                    # Accumulating the loss for each batch\n",
    "                    running_loss += loss \n",
    "                    # Accumulate number of correct predictions\n",
    "                    running_corr += torch.sum(preds==labels)    \n",
    "                    \n",
    "                totalLoss = running_loss/(i+1)\n",
    "                # Calculating gradients\n",
    "                \n",
    "\n",
    "                # Updating the model parameters\n",
    "                for f in net.parameters():\n",
    "                    f.data.sub_(f.grad.data * learning_rate)\n",
    "                    \n",
    "                epoch_loss = running_loss.item()/(i+1)   #Total loss for one epoch\n",
    "                epoch_acc = running_corr.item()/60000\n",
    "                \n",
    "                \n",
    "                    \n",
    "                train_loss.append(epoch_loss) #Saving the loss over epochs for plotting the graph\n",
    "                train_acc.append(epoch_acc) #Saving the accuracy over epochs for plotting the graph\n",
    "                  \n",
    "                    \n",
    "                print('Epoch {:.0f}/{:.0f} : Training loss: {:.4f} | Training Accuracy: {:.4f}'.format(epoch+1,num_epochs,epoch_loss,epoch_acc*100))\n",
    "\n",
    "\n",
    "train_A[0]=train_acc\n",
    "train_L[0]=train_loss  \n"
   ]
  },
  {
   "cell_type": "code",
   "execution_count": 23,
   "metadata": {
    "colab": {
     "base_uri": "https://localhost:8080/",
     "height": 101
    },
    "colab_type": "code",
    "id": "Lt6IlrAQr2Ao",
    "outputId": "bfb616ce-5c6a-4fa2-b820-150750492e6c"
   },
   "outputs": [
    {
     "name": "stdout",
     "output_type": "stream",
     "text": [
      "Epoch 1/5 : Training loss: 0.0120 | Training Accuracy: 99.6467\n",
      "Epoch 2/5 : Training loss: 0.0102 | Training Accuracy: 99.7200\n",
      "Epoch 3/5 : Training loss: 0.0091 | Training Accuracy: 99.7550\n",
      "Epoch 4/5 : Training loss: 0.0079 | Training Accuracy: 99.8000\n",
      "Epoch 5/5 : Training loss: 0.0079 | Training Accuracy: 99.7717\n"
     ]
    }
   ],
   "source": [
    "# BATCHSIZE = 256\n",
    "train_loss = []\n",
    "train_acc = []\n",
    "for epoch in range(num_epochs):\n",
    "                running_loss = 0.0 \n",
    "                running_corr = 0\n",
    "          \n",
    "                for i,data in enumerate(trainLoader[1]):\n",
    "                    inputs,labels = data\n",
    "                  # Initializing model gradients to zero\n",
    "                    net.zero_grad()\n",
    "                    optimizer.zero_grad() \n",
    "                    # Data feed-forward through the network\n",
    "                    outputs = net(inputs)\n",
    "                    # Predicted class is the one with maximum probability\n",
    "                    preds = torch.argmax(outputs,dim=1)\n",
    "                    # Finding the loss\n",
    "                    loss = criterion(outputs, labels)\n",
    "                    loss.backward()\n",
    "                    optimizer.step()\n",
    "\n",
    "                    # Accumulating the loss for each batch\n",
    "                    running_loss += loss \n",
    "                    # Accumulate number of correct predictions\n",
    "                    running_corr += torch.sum(preds==labels)    \n",
    "                    \n",
    "                totalLoss = running_loss/(i+1)\n",
    "                # Calculating gradients\n",
    "                \n",
    "\n",
    "                # Updating the model parameters\n",
    "                for f in net.parameters():\n",
    "                    f.data.sub_(f.grad.data * learning_rate)\n",
    "                    \n",
    "                epoch_loss = running_loss.item()/(i+1)   #Total loss for one epoch\n",
    "                epoch_acc = running_corr.item()/60000\n",
    "                \n",
    "                \n",
    "                    \n",
    "                train_loss.append(epoch_loss) #Saving the loss over epochs for plotting the graph\n",
    "                train_acc.append(epoch_acc) #Saving the accuracy over epochs for plotting the graph\n",
    "                  \n",
    "                    \n",
    "                print('Epoch {:.0f}/{:.0f} : Training loss: {:.4f} | Training Accuracy: {:.4f}'.format(epoch+1,num_epochs,epoch_loss,epoch_acc*100))\n",
    "\n",
    "\n",
    "train_A[1]=train_acc\n",
    "train_L[1]=train_loss\n",
    "      \n"
   ]
  },
  {
   "cell_type": "code",
   "execution_count": 24,
   "metadata": {
    "colab": {
     "base_uri": "https://localhost:8080/",
     "height": 101
    },
    "colab_type": "code",
    "id": "FRsNGITHr2jD",
    "outputId": "1d627c7c-dd50-4fb3-f8a5-2b9ea750206f"
   },
   "outputs": [
    {
     "name": "stdout",
     "output_type": "stream",
     "text": [
      "Epoch 1/5 : Training loss: 0.0055 | Training Accuracy: 99.8750\n",
      "Epoch 2/5 : Training loss: 0.0049 | Training Accuracy: 99.8983\n",
      "Epoch 3/5 : Training loss: 0.0048 | Training Accuracy: 99.8950\n",
      "Epoch 4/5 : Training loss: 0.0043 | Training Accuracy: 99.9067\n",
      "Epoch 5/5 : Training loss: 0.0041 | Training Accuracy: 99.9250\n"
     ]
    }
   ],
   "source": [
    "# BATCHSIZE = 512\n",
    "train_loss = []\n",
    "train_acc = []\n",
    "for epoch in range(num_epochs):\n",
    "                running_loss = 0.0 \n",
    "                running_corr = 0\n",
    "          \n",
    "                for i,data in enumerate(trainLoader[2]):\n",
    "                    inputs,labels = data\n",
    "                  # Initializing model gradients to zero\n",
    "                    net.zero_grad()\n",
    "                    optimizer.zero_grad() \n",
    "                    # Data feed-forward through the network\n",
    "                    outputs = net(inputs)\n",
    "                    # Predicted class is the one with maximum probability\n",
    "                    preds = torch.argmax(outputs,dim=1)\n",
    "                    # Finding the loss\n",
    "                    loss = criterion(outputs, labels)\n",
    "                    loss.backward()\n",
    "                    optimizer.step()\n",
    "\n",
    "                    # Accumulating the loss for each batch\n",
    "                    running_loss += loss \n",
    "                    # Accumulate number of correct predictions\n",
    "                    running_corr += torch.sum(preds==labels)    \n",
    "                    \n",
    "                totalLoss = running_loss/(i+1)\n",
    "                # Calculating gradients\n",
    "                \n",
    "\n",
    "                # Updating the model parameters\n",
    "                for f in net.parameters():\n",
    "                    f.data.sub_(f.grad.data * learning_rate)\n",
    "                    \n",
    "                epoch_loss = running_loss.item()/(i+1)   #Total loss for one epoch\n",
    "                epoch_acc = running_corr.item()/60000\n",
    "                \n",
    "                \n",
    "                    \n",
    "                train_loss.append(epoch_loss) #Saving the loss over epochs for plotting the graph\n",
    "                train_acc.append(epoch_acc) #Saving the accuracy over epochs for plotting the graph\n",
    "                  \n",
    "                    \n",
    "                print('Epoch {:.0f}/{:.0f} : Training loss: {:.4f} | Training Accuracy: {:.4f}'.format(epoch+1,num_epochs,epoch_loss,epoch_acc*100))\n",
    "\n",
    "\n",
    "\n",
    "train_A[2]=train_acc\n",
    "train_L[2]=train_loss  \n"
   ]
  },
  {
   "cell_type": "code",
   "execution_count": 25,
   "metadata": {
    "colab": {
     "base_uri": "https://localhost:8080/",
     "height": 968
    },
    "colab_type": "code",
    "id": "nTG79lCWeiY6",
    "outputId": "b055704f-7dc6-4395-f23b-d6c699bb8eaf"
   },
   "outputs": [
    {
     "data": {
      "image/png": "[encoded data removed]",
      "text/plain": [
       "<Figure size 1080x360 with 2 Axes>"
      ]
     },
     "metadata": {
      "tags": []
     },
     "output_type": "display_data"
    },
    {
     "data": {
      "image/png": "[encoded data removed]",
      "text/plain": [
       "<Figure size 1080x360 with 2 Axes>"
      ]
     },
     "metadata": {
      "tags": []
     },
     "output_type": "display_data"
    },
    {
     "data": {
      "image/png": "[encoded data removed]",
      "text/plain": [
       "<Figure size 1080x360 with 2 Axes>"
      ]
     },
     "metadata": {
      "tags": []
     },
     "output_type": "display_data"
    }
   ],
   "source": [
    "\n",
    "for i in range(len(BatchSize)):\n",
    "      PLOTS(num_epochs,train_A[i],train_L[i])\n"
   ]
  },
  {
   "cell_type": "code",
   "execution_count": 33,
   "metadata": {
    "colab": {
     "base_uri": "https://localhost:8080/",
     "height": 67
    },
    "colab_type": "code",
    "id": "bPiufiKEgUfl",
    "outputId": "756c5869-0fdb-4c58-d1a5-e0cb7ea2781d"
   },
   "outputs": [
    {
     "name": "stdout",
     "output_type": "stream",
     "text": [
      "Testing accuracy =  99.03999999999999\n",
      "Testing accuracy =  99.03999999999999\n",
      "Testing accuracy =  99.03999999999999\n"
     ]
    }
   ],
   "source": [
    "for i in range(len(BatchSize)):\n",
    "    correct_pred = 0\n",
    "    for data in testLoader[i]:\n",
    "              inputs,labels = data\n",
    "              # Feedforward train data batch through model\n",
    "              output = net(inputs) \n",
    "              # Predicted class is the one with maximum probability\n",
    "              preds = torch.argmax(output,dim=1)\n",
    "              correct_pred += torch.sum(preds==labels)\n",
    "\n",
    "    test_accuracy = correct_pred.item()/10000.0\n",
    "    print('Testing accuracy = ',test_accuracy*100)"
   ]
  },
  {
   "cell_type": "code",
   "execution_count": 0,
   "metadata": {
    "cellView": "form",
    "colab": {},
    "colab_type": "code",
    "id": "X0Vef3WNxwbR"
   },
   "outputs": [],
   "source": [
    "#@title SAME BATCHSIZE AND DIFFERENT LEARNING RATES\n"
   ]
  },
  {
   "cell_type": "code",
   "execution_count": 0,
   "metadata": {
    "colab": {},
    "colab_type": "code",
    "id": "XDf4U3Yxu9qG"
   },
   "outputs": [],
   "source": [
    "from torch import optim\n",
    "learning_rate=[0.05,0.1,0.2]\n",
    "num_epochs=5\n",
    "train_A=[[],[],[]]\n",
    "train_L=[[],[],[]]\n",
    "\n",
    "#optimizer = optim.Adam(net.parametres(), lr=learning_rate)"
   ]
  },
  {
   "cell_type": "code",
   "execution_count": 36,
   "metadata": {
    "colab": {
     "base_uri": "https://localhost:8080/",
     "height": 101
    },
    "colab_type": "code",
    "id": "1JArQOTIu90l",
    "outputId": "0b31aa4b-f00a-4e3f-bb39-ebd93d8815bd"
   },
   "outputs": [
    {
     "name": "stdout",
     "output_type": "stream",
     "text": [
      "Epoch 1/5 : Training loss: 0.0039 | Training Accuracy: 99.9333\n",
      "Epoch 2/5 : Training loss: 0.0037 | Training Accuracy: 99.9400\n",
      "Epoch 3/5 : Training loss: 0.0038 | Training Accuracy: 99.9267\n",
      "Epoch 4/5 : Training loss: 0.0037 | Training Accuracy: 99.9333\n",
      "Epoch 5/5 : Training loss: 0.0032 | Training Accuracy: 99.9500\n"
     ]
    }
   ],
   "source": [
    "#Learning rate = 0.05 for batchsize =256\n",
    "criterion = nn.CrossEntropyLoss()\n",
    "optimizer = optim.SGD(net.parameters(), lr=learning_rate[0])\n",
    "train_loss = []\n",
    "train_acc = []\n",
    "for epoch in range(num_epochs):\n",
    "                running_loss = 0.0 \n",
    "                running_corr = 0\n",
    "          \n",
    "                for i,data in enumerate(trainLoader[1]):\n",
    "                    inputs,labels = data\n",
    "                  # Initializing model gradients to zero\n",
    "                    net.zero_grad()\n",
    "                    optimizer.zero_grad() \n",
    "                    # Data feed-forward through the network\n",
    "                    outputs = net(inputs)\n",
    "                    # Predicted class is the one with maximum probability\n",
    "                    preds = torch.argmax(outputs,dim=1)\n",
    "                    # Finding the loss\n",
    "                    loss = criterion(outputs, labels)\n",
    "                    loss.backward()\n",
    "                    optimizer.step()\n",
    "\n",
    "                    # Accumulating the loss for each batch\n",
    "                    running_loss += loss \n",
    "                    # Accumulate number of correct predictions\n",
    "                    running_corr += torch.sum(preds==labels)    \n",
    "                    \n",
    "                totalLoss = running_loss/(i+1)\n",
    "                # Calculating gradients\n",
    "                \n",
    "\n",
    "                # Updating the model parameters\n",
    "                for f in net.parameters():\n",
    "                    f.data.sub_(f.grad.data * learning_rate[0])\n",
    "                    \n",
    "                epoch_loss = running_loss.item()/(i+1)   #Total loss for one epoch\n",
    "                epoch_acc = running_corr.item()/60000\n",
    "                \n",
    "                \n",
    "                    \n",
    "                train_loss.append(epoch_loss) #Saving the loss over epochs for plotting the graph\n",
    "                train_acc.append(epoch_acc) #Saving the accuracy over epochs for plotting the graph\n",
    "                  \n",
    "                    \n",
    "                print('Epoch {:.0f}/{:.0f} : Training loss: {:.4f} | Training Accuracy: {:.4f}'.format(epoch+1,num_epochs,epoch_loss,epoch_acc*100))\n",
    "\n",
    "\n",
    "\n",
    "train_A[0]=train_acc\n",
    "train_L[0]=train_loss  \n"
   ]
  },
  {
   "cell_type": "code",
   "execution_count": 37,
   "metadata": {
    "colab": {
     "base_uri": "https://localhost:8080/",
     "height": 101
    },
    "colab_type": "code",
    "id": "I66ojgXDu9_A",
    "outputId": "ff994dcb-95c2-4e0e-d854-2deb82a82dd1"
   },
   "outputs": [
    {
     "name": "stdout",
     "output_type": "stream",
     "text": [
      "Epoch 1/5 : Training loss: 0.0040 | Training Accuracy: 99.9083\n",
      "Epoch 2/5 : Training loss: 0.0825 | Training Accuracy: 97.8833\n",
      "Epoch 3/5 : Training loss: 0.0156 | Training Accuracy: 99.4833\n",
      "Epoch 4/5 : Training loss: 0.0107 | Training Accuracy: 99.6767\n",
      "Epoch 5/5 : Training loss: 0.0099 | Training Accuracy: 99.7183\n"
     ]
    }
   ],
   "source": [
    "#Learning rate = 0.1 for batchsize =256\n",
    "train_loss = []\n",
    "train_acc = []\n",
    "criterion = nn.CrossEntropyLoss()\n",
    "optimizer = optim.SGD(net.parameters(), lr=learning_rate[1])\n",
    "for epoch in range(num_epochs):\n",
    "                running_loss = 0.0 \n",
    "                running_corr = 0\n",
    "          \n",
    "                for i,data in enumerate(trainLoader[1]):\n",
    "                    inputs,labels = data\n",
    "                  # Initializing model gradients to zero\n",
    "                    net.zero_grad()\n",
    "                    optimizer.zero_grad() \n",
    "                    # Data feed-forward through the network\n",
    "                    outputs = net(inputs)\n",
    "                    # Predicted class is the one with maximum probability\n",
    "                    preds = torch.argmax(outputs,dim=1)\n",
    "                    # Finding the loss\n",
    "                    loss = criterion(outputs, labels)\n",
    "                    loss.backward()\n",
    "                    optimizer.step()\n",
    "\n",
    "                    # Accumulating the loss for each batch\n",
    "                    running_loss += loss \n",
    "                    # Accumulate number of correct predictions\n",
    "                    running_corr += torch.sum(preds==labels)    \n",
    "                    \n",
    "                totalLoss = running_loss/(i+1)\n",
    "                # Calculating gradients\n",
    "                \n",
    "\n",
    "                # Updating the model parameters\n",
    "                for f in net.parameters():\n",
    "                    f.data.sub_(f.grad.data * learning_rate[1])\n",
    "                    \n",
    "                epoch_loss = running_loss.item()/(i+1)   #Total loss for one epoch\n",
    "                epoch_acc = running_corr.item()/60000\n",
    "                \n",
    "                \n",
    "                    \n",
    "                train_loss.append(epoch_loss) #Saving the loss over epochs for plotting the graph\n",
    "                train_acc.append(epoch_acc) #Saving the accuracy over epochs for plotting the graph\n",
    "                  \n",
    "                    \n",
    "                print('Epoch {:.0f}/{:.0f} : Training loss: {:.4f} | Training Accuracy: {:.4f}'.format(epoch+1,num_epochs,epoch_loss,epoch_acc*100))\n",
    "\n",
    "\n",
    "\n",
    "train_A[1]=train_acc\n",
    "train_L[1]=train_loss  \n"
   ]
  },
  {
   "cell_type": "code",
   "execution_count": 38,
   "metadata": {
    "colab": {
     "base_uri": "https://localhost:8080/",
     "height": 101
    },
    "colab_type": "code",
    "id": "M3E_ZasRvZEi",
    "outputId": "516509d2-ceb6-4857-8efc-4274dfb74a5e"
   },
   "outputs": [
    {
     "name": "stdout",
     "output_type": "stream",
     "text": [
      "Epoch 1/5 : Training loss: 0.4495 | Training Accuracy: 89.1467\n",
      "Epoch 2/5 : Training loss: 0.0684 | Training Accuracy: 97.8633\n",
      "Epoch 3/5 : Training loss: 0.0477 | Training Accuracy: 98.5167\n",
      "Epoch 4/5 : Training loss: 0.0390 | Training Accuracy: 98.7367\n",
      "Epoch 5/5 : Training loss: 0.0406 | Training Accuracy: 98.7067\n"
     ]
    }
   ],
   "source": [
    "#Learning rate = 0.2 for batchsize =256\n",
    "train_loss = []\n",
    "train_acc = []\n",
    "criterion = nn.CrossEntropyLoss()\n",
    "optimizer = optim.SGD(net.parameters(), lr=learning_rate[2])\n",
    "for epoch in range(num_epochs):\n",
    "                running_loss = 0.0 \n",
    "                running_corr = 0\n",
    "          \n",
    "                for i,data in enumerate(trainLoader[1]):\n",
    "                    inputs,labels = data\n",
    "                  # Initializing model gradients to zero\n",
    "                    net.zero_grad()\n",
    "                    optimizer.zero_grad() \n",
    "                    # Data feed-forward through the network\n",
    "                    outputs = net(inputs)\n",
    "                    # Predicted class is the one with maximum probability\n",
    "                    preds = torch.argmax(outputs,dim=1)\n",
    "                    # Finding the loss\n",
    "                    loss = criterion(outputs, labels)\n",
    "                    loss.backward()\n",
    "                    optimizer.step()\n",
    "\n",
    "                    # Accumulating the loss for each batch\n",
    "                    running_loss += loss \n",
    "                    # Accumulate number of correct predictions\n",
    "                    running_corr += torch.sum(preds==labels)    \n",
    "                    \n",
    "                totalLoss = running_loss/(i+1)\n",
    "                # Calculating gradients\n",
    "                \n",
    "\n",
    "                # Updating the model parameters\n",
    "                for f in net.parameters():\n",
    "                    f.data.sub_(f.grad.data * learning_rate[2])\n",
    "                    \n",
    "                epoch_loss = running_loss.item()/(i+1)   #Total loss for one epoch\n",
    "                epoch_acc = running_corr.item()/60000\n",
    "                \n",
    "                \n",
    "                    \n",
    "                train_loss.append(epoch_loss) #Saving the loss over epochs for plotting the graph\n",
    "                train_acc.append(epoch_acc) #Saving the accuracy over epochs for plotting the graph\n",
    "                  \n",
    "                    \n",
    "                print('Epoch {:.0f}/{:.0f} : Training loss: {:.4f} | Training Accuracy: {:.4f}'.format(epoch+1,num_epochs,epoch_loss,epoch_acc*100))\n",
    "\n",
    "\n",
    "\n",
    "train_A[2]=train_acc\n",
    "train_L[2]=train_loss  \n"
   ]
  },
  {
   "cell_type": "code",
   "execution_count": 39,
   "metadata": {
    "colab": {
     "base_uri": "https://localhost:8080/",
     "height": 971
    },
    "colab_type": "code",
    "id": "pKaQ4Uh5vwBR",
    "outputId": "ce6c91d3-ce7d-406e-9fe1-3e9b1d6d1888"
   },
   "outputs": [
    {
     "data": {
      "image/png": "[encoded data removed]",
      "text/plain": [
       "<Figure size 1080x360 with 2 Axes>"
      ]
     },
     "metadata": {
      "tags": []
     },
     "output_type": "display_data"
    },
    {
     "data": {
      "image/png": "[encoded data removed]",
      "text/plain": [
       "<Figure size 1080x360 with 2 Axes>"
      ]
     },
     "metadata": {
      "tags": []
     },
     "output_type": "display_data"
    },
    {
     "data": {
      "image/png": "[encoded data removed]",
      "text/plain": [
       "<Figure size 1080x360 with 2 Axes>"
      ]
     },
     "metadata": {
      "tags": []
     },
     "output_type": "display_data"
    }
   ],
   "source": [
    "\n",
    "for i in range(len(BatchSize)):\n",
    "      PLOTS(num_epochs,train_A[i],train_L[i])\n"
   ]
  }
 ],
 "metadata": {
  "accelerator": "GPU",
  "colab": {
   "collapsed_sections": [],
   "name": "18IM10023_T5a.ipynb",
   "provenance": [],
   "toc_visible": true
  },
  "kernelspec": {
   "display_name": "Python 3",
   "language": "python",
   "name": "python3"
  },
  "language_info": {
   "codemirror_mode": {
    "name": "ipython",
    "version": 3
   },
   "file_extension": ".py",
   "mimetype": "text/x-python",
   "name": "python",
   "nbconvert_exporter": "python",
   "pygments_lexer": "ipython3",
   "version": "3.6.5"
  },
  "widgets": {
   "application/vnd.jupyter.widget-state+json": {
    "0661badf2ce64762aedfb737ba230ccd": {
     "model_module": "@jupyter-widgets/controls",
     "model_name": "DescriptionStyleModel",
     "state": {
      "_model_module": "@jupyter-widgets/controls",
      "_model_module_version": "1.5.0",
      "_model_name": "DescriptionStyleModel",
      "_view_count": null,
      "_view_module": "@jupyter-widgets/base",
      "_view_module_version": "1.2.0",
      "_view_name": "StyleView",
      "description_width": ""
     }
    },
    "0b407a5d462347c7808b2b939df0a379": {
     "model_module": "@jupyter-widgets/base",
     "model_name": "LayoutModel",
     "state": {
      "_model_module": "@jupyter-widgets/base",
      "_model_module_version": "1.2.0",
      "_model_name": "LayoutModel",
      "_view_count": null,
      "_view_module": "@jupyter-widgets/base",
      "_view_module_version": "1.2.0",
      "_view_name": "LayoutView",
      "align_content": null,
      "align_items": null,
      "align_self": null,
      "border": null,
      "bottom": null,
      "display": null,
      "flex": null,
      "flex_flow": null,
      "grid_area": null,
      "grid_auto_columns": null,
      "grid_auto_flow": null,
      "grid_auto_rows": null,
      "grid_column": null,
      "grid_gap": null,
      "grid_row": null,
      "grid_template_areas": null,
      "grid_template_columns": null,
      "grid_template_rows": null,
      "height": null,
      "justify_content": null,
      "justify_items": null,
      "left": null,
      "margin": null,
      "max_height": null,
      "max_width": null,
      "min_height": null,
      "min_width": null,
      "object_fit": null,
      "object_position": null,
      "order": null,
      "overflow": null,
      "overflow_x": null,
      "overflow_y": null,
      "padding": null,
      "right": null,
      "top": null,
      "visibility": null,
      "width": null
     }
    },
    "0fabcb63b1d9412babafa1e830be596d": {
     "model_module": "@jupyter-widgets/base",
     "model_name": "LayoutModel",
     "state": {
      "_model_module": "@jupyter-widgets/base",
      "_model_module_version": "1.2.0",
      "_model_name": "LayoutModel",
      "_view_count": null,
      "_view_module": "@jupyter-widgets/base",
      "_view_module_version": "1.2.0",
      "_view_name": "LayoutView",
      "align_content": null,
      "align_items": null,
      "align_self": null,
      "border": null,
      "bottom": null,
      "display": null,
      "flex": null,
      "flex_flow": null,
      "grid_area": null,
      "grid_auto_columns": null,
      "grid_auto_flow": null,
      "grid_auto_rows": null,
      "grid_column": null,
      "grid_gap": null,
      "grid_row": null,
      "grid_template_areas": null,
      "grid_template_columns": null,
      "grid_template_rows": null,
      "height": null,
      "justify_content": null,
      "justify_items": null,
      "left": null,
      "margin": null,
      "max_height": null,
      "max_width": null,
      "min_height": null,
      "min_width": null,
      "object_fit": null,
      "object_position": null,
      "order": null,
      "overflow": null,
      "overflow_x": null,
      "overflow_y": null,
      "padding": null,
      "right": null,
      "top": null,
      "visibility": null,
      "width": null
     }
    },
    "31e3d0dc346849d28bbce61705bf928a": {
     "model_module": "@jupyter-widgets/base",
     "model_name": "LayoutModel",
     "state": {
      "_model_module": "@jupyter-widgets/base",
      "_model_module_version": "1.2.0",
      "_model_name": "LayoutModel",
      "_view_count": null,
      "_view_module": "@jupyter-widgets/base",
      "_view_module_version": "1.2.0",
      "_view_name": "LayoutView",
      "align_content": null,
      "align_items": null,
      "align_self": null,
      "border": null,
      "bottom": null,
      "display": null,
      "flex": null,
      "flex_flow": null,
      "grid_area": null,
      "grid_auto_columns": null,
      "grid_auto_flow": null,
      "grid_auto_rows": null,
      "grid_column": null,
      "grid_gap": null,
      "grid_row": null,
      "grid_template_areas": null,
      "grid_template_columns": null,
      "grid_template_rows": null,
      "height": null,
      "justify_content": null,
      "justify_items": null,
      "left": null,
      "margin": null,
      "max_height": null,
      "max_width": null,
      "min_height": null,
      "min_width": null,
      "object_fit": null,
      "object_position": null,
      "order": null,
      "overflow": null,
      "overflow_x": null,
      "overflow_y": null,
      "padding": null,
      "right": null,
      "top": null,
      "visibility": null,
      "width": null
     }
    },
    "34599b2c35654626b690eda263ea11ab": {
     "model_module": "@jupyter-widgets/base",
     "model_name": "LayoutModel",
     "state": {
      "_model_module": "@jupyter-widgets/base",
      "_model_module_version": "1.2.0",
      "_model_name": "LayoutModel",
      "_view_count": null,
      "_view_module": "@jupyter-widgets/base",
      "_view_module_version": "1.2.0",
      "_view_name": "LayoutView",
      "align_content": null,
      "align_items": null,
      "align_self": null,
      "border": null,
      "bottom": null,
      "display": null,
      "flex": null,
      "flex_flow": null,
      "grid_area": null,
      "grid_auto_columns": null,
      "grid_auto_flow": null,
      "grid_auto_rows": null,
      "grid_column": null,
      "grid_gap": null,
      "grid_row": null,
      "grid_template_areas": null,
      "grid_template_columns": null,
      "grid_template_rows": null,
      "height": null,
      "justify_content": null,
      "justify_items": null,
      "left": null,
      "margin": null,
      "max_height": null,
      "max_width": null,
      "min_height": null,
      "min_width": null,
      "object_fit": null,
      "object_position": null,
      "order": null,
      "overflow": null,
      "overflow_x": null,
      "overflow_y": null,
      "padding": null,
      "right": null,
      "top": null,
      "visibility": null,
      "width": null
     }
    },
    "34802026d4624c009641e77b38b3f25e": {
     "model_module": "@jupyter-widgets/base",
     "model_name": "LayoutModel",
     "state": {
      "_model_module": "@jupyter-widgets/base",
      "_model_module_version": "1.2.0",
      "_model_name": "LayoutModel",
      "_view_count": null,
      "_view_module": "@jupyter-widgets/base",
      "_view_module_version": "1.2.0",
      "_view_name": "LayoutView",
      "align_content": null,
      "align_items": null,
      "align_self": null,
      "border": null,
      "bottom": null,
      "display": null,
      "flex": null,
      "flex_flow": null,
      "grid_area": null,
      "grid_auto_columns": null,
      "grid_auto_flow": null,
      "grid_auto_rows": null,
      "grid_column": null,
      "grid_gap": null,
      "grid_row": null,
      "grid_template_areas": null,
      "grid_template_columns": null,
      "grid_template_rows": null,
      "height": null,
      "justify_content": null,
      "justify_items": null,
      "left": null,
      "margin": null,
      "max_height": null,
      "max_width": null,
      "min_height": null,
      "min_width": null,
      "object_fit": null,
      "object_position": null,
      "order": null,
      "overflow": null,
      "overflow_x": null,
      "overflow_y": null,
      "padding": null,
      "right": null,
      "top": null,
      "visibility": null,
      "width": null
     }
    },
    "360fe51cb69d48cfad85ff7a6cc95dee": {
     "model_module": "@jupyter-widgets/controls",
     "model_name": "ProgressStyleModel",
     "state": {
      "_model_module": "@jupyter-widgets/controls",
      "_model_module_version": "1.5.0",
      "_model_name": "ProgressStyleModel",
      "_view_count": null,
      "_view_module": "@jupyter-widgets/base",
      "_view_module_version": "1.2.0",
      "_view_name": "StyleView",
      "bar_color": null,
      "description_width": ""
     }
    },
    "41088a6151a1441381ec0f39fe961a48": {
     "model_module": "@jupyter-widgets/controls",
     "model_name": "ProgressStyleModel",
     "state": {
      "_model_module": "@jupyter-widgets/controls",
      "_model_module_version": "1.5.0",
      "_model_name": "ProgressStyleModel",
      "_view_count": null,
      "_view_module": "@jupyter-widgets/base",
      "_view_module_version": "1.2.0",
      "_view_name": "StyleView",
      "bar_color": null,
      "description_width": ""
     }
    },
    "56e5475278c94396a56322314e4026f8": {
     "model_module": "@jupyter-widgets/controls",
     "model_name": "ProgressStyleModel",
     "state": {
      "_model_module": "@jupyter-widgets/controls",
      "_model_module_version": "1.5.0",
      "_model_name": "ProgressStyleModel",
      "_view_count": null,
      "_view_module": "@jupyter-widgets/base",
      "_view_module_version": "1.2.0",
      "_view_name": "StyleView",
      "bar_color": null,
      "description_width": ""
     }
    },
    "574ae471a9304d488571ad4204c017d7": {
     "model_module": "@jupyter-widgets/controls",
     "model_name": "IntProgressModel",
     "state": {
      "_dom_classes": [],
      "_model_module": "@jupyter-widgets/controls",
      "_model_module_version": "1.5.0",
      "_model_name": "IntProgressModel",
      "_view_count": null,
      "_view_module": "@jupyter-widgets/controls",
      "_view_module_version": "1.5.0",
      "_view_name": "ProgressView",
      "bar_style": "success",
      "description": "",
      "description_tooltip": null,
      "layout": "IPY_MODEL_92e4ae5571f74672a64206c7aaa69c76",
      "max": 1,
      "min": 0,
      "orientation": "horizontal",
      "style": "IPY_MODEL_360fe51cb69d48cfad85ff7a6cc95dee",
      "value": 1
     }
    },
    "679cd34bc9734541933d51e01d09c2e2": {
     "model_module": "@jupyter-widgets/controls",
     "model_name": "HTMLModel",
     "state": {
      "_dom_classes": [],
      "_model_module": "@jupyter-widgets/controls",
      "_model_module_version": "1.5.0",
      "_model_name": "HTMLModel",
      "_view_count": null,
      "_view_module": "@jupyter-widgets/controls",
      "_view_module_version": "1.5.0",
      "_view_name": "HTMLView",
      "description": "",
      "description_tooltip": null,
      "layout": "IPY_MODEL_f7dede5a18594cb0b9e7e4d66ed37c0d",
      "placeholder": "​",
      "style": "IPY_MODEL_c6da027f87c049538a018808af316be3",
      "value": "8192it [00:00, 42145.17it/s]"
     }
    },
    "6891ffcea3d54444bb9c365ed2bc99b3": {
     "model_module": "@jupyter-widgets/base",
     "model_name": "LayoutModel",
     "state": {
      "_model_module": "@jupyter-widgets/base",
      "_model_module_version": "1.2.0",
      "_model_name": "LayoutModel",
      "_view_count": null,
      "_view_module": "@jupyter-widgets/base",
      "_view_module_version": "1.2.0",
      "_view_name": "LayoutView",
      "align_content": null,
      "align_items": null,
      "align_self": null,
      "border": null,
      "bottom": null,
      "display": null,
      "flex": null,
      "flex_flow": null,
      "grid_area": null,
      "grid_auto_columns": null,
      "grid_auto_flow": null,
      "grid_auto_rows": null,
      "grid_column": null,
      "grid_gap": null,
      "grid_row": null,
      "grid_template_areas": null,
      "grid_template_columns": null,
      "grid_template_rows": null,
      "height": null,
      "justify_content": null,
      "justify_items": null,
      "left": null,
      "margin": null,
      "max_height": null,
      "max_width": null,
      "min_height": null,
      "min_width": null,
      "object_fit": null,
      "object_position": null,
      "order": null,
      "overflow": null,
      "overflow_x": null,
      "overflow_y": null,
      "padding": null,
      "right": null,
      "top": null,
      "visibility": null,
      "width": null
     }
    },
    "8a6b30725f464b37a2ab4ac20b2361de": {
     "model_module": "@jupyter-widgets/base",
     "model_name": "LayoutModel",
     "state": {
      "_model_module": "@jupyter-widgets/base",
      "_model_module_version": "1.2.0",
      "_model_name": "LayoutModel",
      "_view_count": null,
      "_view_module": "@jupyter-widgets/base",
      "_view_module_version": "1.2.0",
      "_view_name": "LayoutView",
      "align_content": null,
      "align_items": null,
      "align_self": null,
      "border": null,
      "bottom": null,
      "display": null,
      "flex": null,
      "flex_flow": null,
      "grid_area": null,
      "grid_auto_columns": null,
      "grid_auto_flow": null,
      "grid_auto_rows": null,
      "grid_column": null,
      "grid_gap": null,
      "grid_row": null,
      "grid_template_areas": null,
      "grid_template_columns": null,
      "grid_template_rows": null,
      "height": null,
      "justify_content": null,
      "justify_items": null,
      "left": null,
      "margin": null,
      "max_height": null,
      "max_width": null,
      "min_height": null,
      "min_width": null,
      "object_fit": null,
      "object_position": null,
      "order": null,
      "overflow": null,
      "overflow_x": null,
      "overflow_y": null,
      "padding": null,
      "right": null,
      "top": null,
      "visibility": null,
      "width": null
     }
    },
    "8bf369eb20fa4282b154bb1480efeaa0": {
     "model_module": "@jupyter-widgets/controls",
     "model_name": "HBoxModel",
     "state": {
      "_dom_classes": [],
      "_model_module": "@jupyter-widgets/controls",
      "_model_module_version": "1.5.0",
      "_model_name": "HBoxModel",
      "_view_count": null,
      "_view_module": "@jupyter-widgets/controls",
      "_view_module_version": "1.5.0",
      "_view_name": "HBoxView",
      "box_style": "",
      "children": [
       "IPY_MODEL_a94fd3fe82554218b899ff35964014c6",
       "IPY_MODEL_cfe4a6afcb7f4f06af1d2599c7d801d8"
      ],
      "layout": "IPY_MODEL_0fabcb63b1d9412babafa1e830be596d"
     }
    },
    "902758c515444dcfbb9b567b820e5f03": {
     "model_module": "@jupyter-widgets/controls",
     "model_name": "ProgressStyleModel",
     "state": {
      "_model_module": "@jupyter-widgets/controls",
      "_model_module_version": "1.5.0",
      "_model_name": "ProgressStyleModel",
      "_view_count": null,
      "_view_module": "@jupyter-widgets/base",
      "_view_module_version": "1.2.0",
      "_view_name": "StyleView",
      "bar_color": null,
      "description_width": ""
     }
    },
    "92e4ae5571f74672a64206c7aaa69c76": {
     "model_module": "@jupyter-widgets/base",
     "model_name": "LayoutModel",
     "state": {
      "_model_module": "@jupyter-widgets/base",
      "_model_module_version": "1.2.0",
      "_model_name": "LayoutModel",
      "_view_count": null,
      "_view_module": "@jupyter-widgets/base",
      "_view_module_version": "1.2.0",
      "_view_name": "LayoutView",
      "align_content": null,
      "align_items": null,
      "align_self": null,
      "border": null,
      "bottom": null,
      "display": null,
      "flex": null,
      "flex_flow": null,
      "grid_area": null,
      "grid_auto_columns": null,
      "grid_auto_flow": null,
      "grid_auto_rows": null,
      "grid_column": null,
      "grid_gap": null,
      "grid_row": null,
      "grid_template_areas": null,
      "grid_template_columns": null,
      "grid_template_rows": null,
      "height": null,
      "justify_content": null,
      "justify_items": null,
      "left": null,
      "margin": null,
      "max_height": null,
      "max_width": null,
      "min_height": null,
      "min_width": null,
      "object_fit": null,
      "object_position": null,
      "order": null,
      "overflow": null,
      "overflow_x": null,
      "overflow_y": null,
      "padding": null,
      "right": null,
      "top": null,
      "visibility": null,
      "width": null
     }
    },
    "9af976fb2c11484e95ca13e3885897f3": {
     "model_module": "@jupyter-widgets/controls",
     "model_name": "HBoxModel",
     "state": {
      "_dom_classes": [],
      "_model_module": "@jupyter-widgets/controls",
      "_model_module_version": "1.5.0",
      "_model_name": "HBoxModel",
      "_view_count": null,
      "_view_module": "@jupyter-widgets/controls",
      "_view_module_version": "1.5.0",
      "_view_name": "HBoxView",
      "box_style": "",
      "children": [
       "IPY_MODEL_c94fee611c67430d906a5429a6d3d020",
       "IPY_MODEL_faeb4a92592644558aa2c611733222ef"
      ],
      "layout": "IPY_MODEL_31e3d0dc346849d28bbce61705bf928a"
     }
    },
    "a02b36aa49fa455b98085489f8140be4": {
     "model_module": "@jupyter-widgets/controls",
     "model_name": "DescriptionStyleModel",
     "state": {
      "_model_module": "@jupyter-widgets/controls",
      "_model_module_version": "1.5.0",
      "_model_name": "DescriptionStyleModel",
      "_view_count": null,
      "_view_module": "@jupyter-widgets/base",
      "_view_module_version": "1.2.0",
      "_view_name": "StyleView",
      "description_width": ""
     }
    },
    "a94fd3fe82554218b899ff35964014c6": {
     "model_module": "@jupyter-widgets/controls",
     "model_name": "IntProgressModel",
     "state": {
      "_dom_classes": [],
      "_model_module": "@jupyter-widgets/controls",
      "_model_module_version": "1.5.0",
      "_model_name": "IntProgressModel",
      "_view_count": null,
      "_view_module": "@jupyter-widgets/controls",
      "_view_module_version": "1.5.0",
      "_view_name": "ProgressView",
      "bar_style": "success",
      "description": "",
      "description_tooltip": null,
      "layout": "IPY_MODEL_34802026d4624c009641e77b38b3f25e",
      "max": 1,
      "min": 0,
      "orientation": "horizontal",
      "style": "IPY_MODEL_41088a6151a1441381ec0f39fe961a48",
      "value": 1
     }
    },
    "bade16d9069d4fabadfdee0f59b029c2": {
     "model_module": "@jupyter-widgets/controls",
     "model_name": "HBoxModel",
     "state": {
      "_dom_classes": [],
      "_model_module": "@jupyter-widgets/controls",
      "_model_module_version": "1.5.0",
      "_model_name": "HBoxModel",
      "_view_count": null,
      "_view_module": "@jupyter-widgets/controls",
      "_view_module_version": "1.5.0",
      "_view_name": "HBoxView",
      "box_style": "",
      "children": [
       "IPY_MODEL_574ae471a9304d488571ad4204c017d7",
       "IPY_MODEL_da196388da004f69b510b60948d1663c"
      ],
      "layout": "IPY_MODEL_34599b2c35654626b690eda263ea11ab"
     }
    },
    "bdda77e77dc540a3b737a7627632a6f6": {
     "model_module": "@jupyter-widgets/base",
     "model_name": "LayoutModel",
     "state": {
      "_model_module": "@jupyter-widgets/base",
      "_model_module_version": "1.2.0",
      "_model_name": "LayoutModel",
      "_view_count": null,
      "_view_module": "@jupyter-widgets/base",
      "_view_module_version": "1.2.0",
      "_view_name": "LayoutView",
      "align_content": null,
      "align_items": null,
      "align_self": null,
      "border": null,
      "bottom": null,
      "display": null,
      "flex": null,
      "flex_flow": null,
      "grid_area": null,
      "grid_auto_columns": null,
      "grid_auto_flow": null,
      "grid_auto_rows": null,
      "grid_column": null,
      "grid_gap": null,
      "grid_row": null,
      "grid_template_areas": null,
      "grid_template_columns": null,
      "grid_template_rows": null,
      "height": null,
      "justify_content": null,
      "justify_items": null,
      "left": null,
      "margin": null,
      "max_height": null,
      "max_width": null,
      "min_height": null,
      "min_width": null,
      "object_fit": null,
      "object_position": null,
      "order": null,
      "overflow": null,
      "overflow_x": null,
      "overflow_y": null,
      "padding": null,
      "right": null,
      "top": null,
      "visibility": null,
      "width": null
     }
    },
    "c1203e1802f3455d9ca0c7e51fdfb016": {
     "model_module": "@jupyter-widgets/controls",
     "model_name": "DescriptionStyleModel",
     "state": {
      "_model_module": "@jupyter-widgets/controls",
      "_model_module_version": "1.5.0",
      "_model_name": "DescriptionStyleModel",
      "_view_count": null,
      "_view_module": "@jupyter-widgets/base",
      "_view_module_version": "1.2.0",
      "_view_name": "StyleView",
      "description_width": ""
     }
    },
    "c2a7e22dae484ae4b1fba6f7a0a64315": {
     "model_module": "@jupyter-widgets/base",
     "model_name": "LayoutModel",
     "state": {
      "_model_module": "@jupyter-widgets/base",
      "_model_module_version": "1.2.0",
      "_model_name": "LayoutModel",
      "_view_count": null,
      "_view_module": "@jupyter-widgets/base",
      "_view_module_version": "1.2.0",
      "_view_name": "LayoutView",
      "align_content": null,
      "align_items": null,
      "align_self": null,
      "border": null,
      "bottom": null,
      "display": null,
      "flex": null,
      "flex_flow": null,
      "grid_area": null,
      "grid_auto_columns": null,
      "grid_auto_flow": null,
      "grid_auto_rows": null,
      "grid_column": null,
      "grid_gap": null,
      "grid_row": null,
      "grid_template_areas": null,
      "grid_template_columns": null,
      "grid_template_rows": null,
      "height": null,
      "justify_content": null,
      "justify_items": null,
      "left": null,
      "margin": null,
      "max_height": null,
      "max_width": null,
      "min_height": null,
      "min_width": null,
      "object_fit": null,
      "object_position": null,
      "order": null,
      "overflow": null,
      "overflow_x": null,
      "overflow_y": null,
      "padding": null,
      "right": null,
      "top": null,
      "visibility": null,
      "width": null
     }
    },
    "c6da027f87c049538a018808af316be3": {
     "model_module": "@jupyter-widgets/controls",
     "model_name": "DescriptionStyleModel",
     "state": {
      "_model_module": "@jupyter-widgets/controls",
      "_model_module_version": "1.5.0",
      "_model_name": "DescriptionStyleModel",
      "_view_count": null,
      "_view_module": "@jupyter-widgets/base",
      "_view_module_version": "1.2.0",
      "_view_name": "StyleView",
      "description_width": ""
     }
    },
    "c94fee611c67430d906a5429a6d3d020": {
     "model_module": "@jupyter-widgets/controls",
     "model_name": "IntProgressModel",
     "state": {
      "_dom_classes": [],
      "_model_module": "@jupyter-widgets/controls",
      "_model_module_version": "1.5.0",
      "_model_name": "IntProgressModel",
      "_view_count": null,
      "_view_module": "@jupyter-widgets/controls",
      "_view_module_version": "1.5.0",
      "_view_name": "ProgressView",
      "bar_style": "success",
      "description": "",
      "description_tooltip": null,
      "layout": "IPY_MODEL_0b407a5d462347c7808b2b939df0a379",
      "max": 1,
      "min": 0,
      "orientation": "horizontal",
      "style": "IPY_MODEL_902758c515444dcfbb9b567b820e5f03",
      "value": 1
     }
    },
    "cfe4a6afcb7f4f06af1d2599c7d801d8": {
     "model_module": "@jupyter-widgets/controls",
     "model_name": "HTMLModel",
     "state": {
      "_dom_classes": [],
      "_model_module": "@jupyter-widgets/controls",
      "_model_module_version": "1.5.0",
      "_model_name": "HTMLModel",
      "_view_count": null,
      "_view_module": "@jupyter-widgets/controls",
      "_view_module_version": "1.5.0",
      "_view_name": "HTMLView",
      "description": "",
      "description_tooltip": null,
      "layout": "IPY_MODEL_8a6b30725f464b37a2ab4ac20b2361de",
      "placeholder": "​",
      "style": "IPY_MODEL_a02b36aa49fa455b98085489f8140be4",
      "value": "32768it [00:00, 116810.36it/s]"
     }
    },
    "da196388da004f69b510b60948d1663c": {
     "model_module": "@jupyter-widgets/controls",
     "model_name": "HTMLModel",
     "state": {
      "_dom_classes": [],
      "_model_module": "@jupyter-widgets/controls",
      "_model_module_version": "1.5.0",
      "_model_name": "HTMLModel",
      "_view_count": null,
      "_view_module": "@jupyter-widgets/controls",
      "_view_module_version": "1.5.0",
      "_view_name": "HTMLView",
      "description": "",
      "description_tooltip": null,
      "layout": "IPY_MODEL_c2a7e22dae484ae4b1fba6f7a0a64315",
      "placeholder": "​",
      "style": "IPY_MODEL_c1203e1802f3455d9ca0c7e51fdfb016",
      "value": "9920512it [00:01, 8323177.11it/s]"
     }
    },
    "e70bb3bb6eef43d0bab0d43b00052bb1": {
     "model_module": "@jupyter-widgets/controls",
     "model_name": "IntProgressModel",
     "state": {
      "_dom_classes": [],
      "_model_module": "@jupyter-widgets/controls",
      "_model_module_version": "1.5.0",
      "_model_name": "IntProgressModel",
      "_view_count": null,
      "_view_module": "@jupyter-widgets/controls",
      "_view_module_version": "1.5.0",
      "_view_name": "ProgressView",
      "bar_style": "success",
      "description": "",
      "description_tooltip": null,
      "layout": "IPY_MODEL_e71dc12cb28148778c37cb9fcbaba947",
      "max": 1,
      "min": 0,
      "orientation": "horizontal",
      "style": "IPY_MODEL_56e5475278c94396a56322314e4026f8",
      "value": 1
     }
    },
    "e71dc12cb28148778c37cb9fcbaba947": {
     "model_module": "@jupyter-widgets/base",
     "model_name": "LayoutModel",
     "state": {
      "_model_module": "@jupyter-widgets/base",
      "_model_module_version": "1.2.0",
      "_model_name": "LayoutModel",
      "_view_count": null,
      "_view_module": "@jupyter-widgets/base",
      "_view_module_version": "1.2.0",
      "_view_name": "LayoutView",
      "align_content": null,
      "align_items": null,
      "align_self": null,
      "border": null,
      "bottom": null,
      "display": null,
      "flex": null,
      "flex_flow": null,
      "grid_area": null,
      "grid_auto_columns": null,
      "grid_auto_flow": null,
      "grid_auto_rows": null,
      "grid_column": null,
      "grid_gap": null,
      "grid_row": null,
      "grid_template_areas": null,
      "grid_template_columns": null,
      "grid_template_rows": null,
      "height": null,
      "justify_content": null,
      "justify_items": null,
      "left": null,
      "margin": null,
      "max_height": null,
      "max_width": null,
      "min_height": null,
      "min_width": null,
      "object_fit": null,
      "object_position": null,
      "order": null,
      "overflow": null,
      "overflow_x": null,
      "overflow_y": null,
      "padding": null,
      "right": null,
      "top": null,
      "visibility": null,
      "width": null
     }
    },
    "f2bbff8c9e2e4a1eb258e20d46099805": {
     "model_module": "@jupyter-widgets/controls",
     "model_name": "HBoxModel",
     "state": {
      "_dom_classes": [],
      "_model_module": "@jupyter-widgets/controls",
      "_model_module_version": "1.5.0",
      "_model_name": "HBoxModel",
      "_view_count": null,
      "_view_module": "@jupyter-widgets/controls",
      "_view_module_version": "1.5.0",
      "_view_name": "HBoxView",
      "box_style": "",
      "children": [
       "IPY_MODEL_e70bb3bb6eef43d0bab0d43b00052bb1",
       "IPY_MODEL_679cd34bc9734541933d51e01d09c2e2"
      ],
      "layout": "IPY_MODEL_bdda77e77dc540a3b737a7627632a6f6"
     }
    },
    "f7dede5a18594cb0b9e7e4d66ed37c0d": {
     "model_module": "@jupyter-widgets/base",
     "model_name": "LayoutModel",
     "state": {
      "_model_module": "@jupyter-widgets/base",
      "_model_module_version": "1.2.0",
      "_model_name": "LayoutModel",
      "_view_count": null,
      "_view_module": "@jupyter-widgets/base",
      "_view_module_version": "1.2.0",
      "_view_name": "LayoutView",
      "align_content": null,
      "align_items": null,
      "align_self": null,
      "border": null,
      "bottom": null,
      "display": null,
      "flex": null,
      "flex_flow": null,
      "grid_area": null,
      "grid_auto_columns": null,
      "grid_auto_flow": null,
      "grid_auto_rows": null,
      "grid_column": null,
      "grid_gap": null,
      "grid_row": null,
      "grid_template_areas": null,
      "grid_template_columns": null,
      "grid_template_rows": null,
      "height": null,
      "justify_content": null,
      "justify_items": null,
      "left": null,
      "margin": null,
      "max_height": null,
      "max_width": null,
      "min_height": null,
      "min_width": null,
      "object_fit": null,
      "object_position": null,
      "order": null,
      "overflow": null,
      "overflow_x": null,
      "overflow_y": null,
      "padding": null,
      "right": null,
      "top": null,
      "visibility": null,
      "width": null
     }
    },
    "faeb4a92592644558aa2c611733222ef": {
     "model_module": "@jupyter-widgets/controls",
     "model_name": "HTMLModel",
     "state": {
      "_dom_classes": [],
      "_model_module": "@jupyter-widgets/controls",
      "_model_module_version": "1.5.0",
      "_model_name": "HTMLModel",
      "_view_count": null,
      "_view_module": "@jupyter-widgets/controls",
      "_view_module_version": "1.5.0",
      "_view_name": "HTMLView",
      "description": "",
      "description_tooltip": null,
      "layout": "IPY_MODEL_6891ffcea3d54444bb9c365ed2bc99b3",
      "placeholder": "​",
      "style": "IPY_MODEL_0661badf2ce64762aedfb737ba230ccd",
      "value": "1654784it [00:00, 2064269.08it/s]"
     }
    }
   }
  }
 },
 "nbformat": 4,
 "nbformat_minor": 1
}
